{
 "cells": [
  {
   "cell_type": "code",
   "execution_count": 10,
   "metadata": {},
   "outputs": [],
   "source": [
    "import scipy.stats as sts\n",
    "from math import sqrt\n",
    "import numpy as np\n",
    "import seaborn as sns\n",
    "import matplotlib.pyplot as plt"
   ]
  },
  {
   "cell_type": "markdown",
   "metadata": {},
   "source": [
    "El tamaño en megabytes (MB) de un tipo de imágenes comprimidas tiene un valor medio de 115 MB, con una desviación típica de 25. Tomamos una m.a.s. de 100 imágenes de este tipo.\n",
    "\n",
    "¿Cuál es la probabilidad de que la media muestral del tamaño de los ficheros sea ≤110 MB?"
   ]
  },
  {
   "cell_type": "code",
   "execution_count": 11,
   "metadata": {},
   "outputs": [
    {
     "name": "stderr",
     "output_type": "stream",
     "text": [
      "c:\\Users\\Álvaro\\Documents\\compartida\\MASTER\\UNED\\CE\\practicas\\binaryKnaspack\\venv\\lib\\site-packages\\seaborn\\distributions.py:2619: FutureWarning: `distplot` is a deprecated function and will be removed in a future version. Please adapt your code to use either `displot` (a figure-level function with similar flexibility) or `histplot` (an axes-level function for histograms).\n",
      "  warnings.warn(msg, FutureWarning)\n"
     ]
    },
    {
     "data": {
      "image/png": "[encoded data removed]",
      "text/plain": [
       "<Figure size 432x288 with 1 Axes>"
      ]
     },
     "metadata": {
      "needs_background": "light"
     },
     "output_type": "display_data"
    },
    {
     "name": "stdout",
     "output_type": "stream",
     "text": [
      "0.022750131948179195\n"
     ]
    }
   ],
   "source": [
    "n = 10000\n",
    "sample = sts.norm.rvs(loc=115, scale=25, size=n)\n",
    "\n",
    "size = 100\n",
    "x = 110\n",
    "mu = 115\n",
    "sigma = 25\n",
    "\n",
    "res = sts.norm.cdf(x, loc=mu, scale=sigma/np.sqrt(size))\n",
    "sns.distplot(sample)\n",
    "plt.axhline(y=res, color='red')\n",
    "plt.axvline(x=x, color='green')\n",
    "plt.show()\n",
    "print(res)"
   ]
  },
  {
   "cell_type": "markdown",
   "metadata": {},
   "source": [
    "El fabricante SMART_LED fabrica bombillas led inteligentes y de alta gama. Supongamos que la vida de de\n",
    "estas bombillas sigue una distribución exponencial de parámetro $λ$. Si tomamos una muestra aleatoria de\n",
    "tamaño $n$ de estas bombillas y representamos por $X_{i}$ la duración de la $i−ésima$ bombilla para $i = 1, . . . , n$\n",
    "¿cuál es la función de densidad conjunta de la muestra"
   ]
  },
  {
   "cell_type": "markdown",
   "metadata": {},
   "source": [
    "La probabilidad asignada a cada $X_{i}$ sigue una distribución exponencial: "
   ]
  },
  {
   "cell_type": "markdown",
   "metadata": {},
   "source": [
    "$$\n",
    "F_{X_{i}}(x_{i}) = \\begin{cases}\n",
    "  λ \\cdot e^{-λ \\cdot x_{i}} & \\text{si } x_{i} > 0 \\\\\n",
    "  0 & \\text{en otro caso}.\n",
    "\\end{cases}\n",
    "$$"
   ]
  },
  {
   "cell_type": "markdown",
   "metadata": {},
   "source": [
    "Por tanto la densidad conjunta de la muestra será:\n",
    "\n"
   ]
  },
  {
   "cell_type": "markdown",
   "metadata": {},
   "source": [
    "$$\n",
    "f(x_{1},x_{2},...,x_{n}) = f_{X_{1}}(x_{1}) \\cdot f_{X_{2}}(x_{2}) \\cdot ... \\cdot f_{X_{n}}(x_{n}) \\\\\n",
    "= \\begin{cases}\n",
    "  λ^{n} \\cdot e^{-λ \\cdot \\sum_{i=1}^{n} x_{i}} & \\text{si } x_{i} > 0 \\text{ para todo i = 1, 2, ..., n}\\\\\n",
    "  0 & \\text{si } x_{i} \\leq 0 \\text{ para algún i = 1, 2, ..., n.}\n",
    "\\end{cases}\n",
    "$$"
   ]
  }
 ],
 "metadata": {
  "interpreter": {
   "hash": "264179f0002194f59500b0142c66500342945a8261c4513ae6fde49e2b388312"
  },
  "kernelspec": {
   "display_name": "Python 3.8.10 64-bit (windows store)",
   "language": "python",
   "name": "python3"
  },
  "language_info": {
   "codemirror_mode": {
    "name": "ipython",
    "version": 3
   },
   "file_extension": ".py",
   "mimetype": "text/x-python",
   "name": "python",
   "nbconvert_exporter": "python",
   "pygments_lexer": "ipython3",
   "version": "3.8.10"
  },
  "orig_nbformat": 4
 },
 "nbformat": 4,
 "nbformat_minor": 2
}
